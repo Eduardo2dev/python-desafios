{
  "nbformat": 4,
  "nbformat_minor": 0,
  "metadata": {
    "colab": {
      "provenance": []
    },
    "kernelspec": {
      "name": "python3",
      "display_name": "Python 3"
    },
    "language_info": {
      "name": "python"
    }
  },
  "cells": [
    {
      "cell_type": "markdown",
      "source": [
        "Escreva um programa que peça à pessoa usuária para fornecer dois números e exibir o número maior."
      ],
      "metadata": {
        "id": "EY-ud5Ur6u4p"
      }
    },
    {
      "cell_type": "code",
      "execution_count": null,
      "metadata": {
        "colab": {
          "base_uri": "https://localhost:8080/"
        },
        "id": "xLimhhk96t7l",
        "outputId": "a74215ad-1a48-44ac-d2fe-7a1a4d2d6048"
      },
      "outputs": [
        {
          "output_type": "stream",
          "name": "stdout",
          "text": [
            "=== Exibir número maior ====\n",
            "Escreva um número: 5\n",
            "Escreva outro número: 2\n",
            "O maior número é o 5.0 \n"
          ]
        }
      ],
      "source": [
        "print('=== Exibir número maior ====')\n",
        "n1 = float(input('Escreva um número: '))\n",
        "n2 = float(input('Escreva outro número: '))\n",
        "\n",
        "if n1 > n2:\n",
        "  print(f'O maior número é o {n1} ')\n",
        "elif n2 > n1:\n",
        "  print(f'O maior número é o {n2}')\n",
        "else:\n",
        "  print('Os dois número são iguais')"
      ]
    },
    {
      "cell_type": "markdown",
      "source": [
        "Escreva um programa que solicite o percentual de crescimento de produção de uma empresa e informe se houve um crescimento (porcentagem positiva) ou decrescimento (porcentagem negativa)."
      ],
      "metadata": {
        "id": "HYQmCaOu8YXf"
      }
    },
    {
      "cell_type": "code",
      "source": [
        "percentual = float(input(\"Digite o percentual de crescimento de produção da empresa: \"))\n",
        "\n",
        "if percentual > 0:\n",
        "    print(\"Houve um crescimento de produção.\")\n",
        "elif percentual < 0:\n",
        "    print(\"Houve um decrescimento de produção.\")\n",
        "else:\n",
        "    print(\"A produção permaneceu estável.\")\n"
      ],
      "metadata": {
        "colab": {
          "base_uri": "https://localhost:8080/"
        },
        "id": "p8ADSbjn7IR6",
        "outputId": "b13c8d0b-ad0e-4555-f847-874b4a75907b"
      },
      "execution_count": null,
      "outputs": [
        {
          "output_type": "stream",
          "name": "stdout",
          "text": [
            "Digite o percentual de crescimento de produção da empresa: 1000\n",
            "Houve um crescimento de produção.\n"
          ]
        }
      ]
    },
    {
      "cell_type": "markdown",
      "source": [
        "Escreva um programa que determine se uma letra fornecida pela pessoa usuária é uma vogal ou consoante."
      ],
      "metadata": {
        "id": "R596qYvCRlhP"
      }
    },
    {
      "cell_type": "code",
      "source": [
        "letra = input(\"Digite uma letra: \").lower()\n",
        "\n",
        "if letra in 'aeiou':\n",
        "    print(\"A letra é uma vogal.\")\n",
        "elif letra.isalpha() and len(letra) == 1:\n",
        "    print(\"A letra é uma consoante.\")\n",
        "else:\n",
        "    print(\"Por favor, digite uma letra válida.\")\n"
      ],
      "metadata": {
        "colab": {
          "base_uri": "https://localhost:8080/"
        },
        "id": "2B5S2Q_aRf6x",
        "outputId": "8f65c0c8-bf9c-4b66-c00d-1964e200fda7"
      },
      "execution_count": null,
      "outputs": [
        {
          "output_type": "stream",
          "name": "stdout",
          "text": [
            "Digite uma letra: a\n",
            "A letra é uma vogal.\n"
          ]
        }
      ]
    },
    {
      "cell_type": "markdown",
      "source": [
        "Escreva um programa que leia valores médios de preços de um modelo de carro por 3 anos consecutivos e exiba o valor mais alto e mais baixo entre esses três anos."
      ],
      "metadata": {
        "id": "HBFbCC7bRxFk"
      }
    },
    {
      "cell_type": "code",
      "source": [
        "ano1 = float(input(\"Digite o valor médio do preço do carro no ano 1: \"))\n",
        "ano2 = float(input(\"Digite o valor médio do preço do carro no ano 2: \"))\n",
        "ano3 = float(input(\"Digite o valor médio do preço do carro no ano 3: \"))\n",
        "\n",
        "valores = [ano1, ano2, ano3]\n",
        "valor_maximo = max(valores)\n",
        "valor_minimo = min(valores)\n",
        "\n",
        "print(f\"O valor mais alto foi: R${valor_maximo:.2f}\")\n",
        "print(f\"O valor mais baixo foi: R${valor_minimo:.2f}\")"
      ],
      "metadata": {
        "colab": {
          "base_uri": "https://localhost:8080/"
        },
        "id": "E3a1jkXSRuFp",
        "outputId": "38718e37-d619-4aef-c58b-aa8c5aec2982"
      },
      "execution_count": null,
      "outputs": [
        {
          "output_type": "stream",
          "name": "stdout",
          "text": [
            "Digite o valor médio do preço do carro no ano 1: 2\n",
            "Digite o valor médio do preço do carro no ano 2: 3\n",
            "Digite o valor médio do preço do carro no ano 3: 1\n",
            "O valor mais alto foi: R$3.00\n",
            "O valor mais baixo foi: R$1.00\n"
          ]
        }
      ]
    },
    {
      "cell_type": "markdown",
      "source": [
        "Escreva um programa que pergunte sobre o preço de três produtos e indique qual é o produto mais barato para comprar."
      ],
      "metadata": {
        "id": "VkSyV9i2SPyt"
      }
    },
    {
      "cell_type": "code",
      "source": [
        "produto1 = float(input('Qual é o preço da barra de proteina? '))\n",
        "produto2 = float(input('Qual é o preço do pré-treino? '))\n",
        "produto3 = float(input('Qual é o preço da creatina? '))\n",
        "\n",
        "produtoMaisBarato = min(produto1, produto2, produto3)\n",
        "\n",
        "if produtoMaisBarato == produto1:\n",
        "   print('o produto mais barato é a  bara de proteina.')\n",
        "elif produtoMaisBarato == produto2:\n",
        "   print('o produto mais barato é o pré-treino.')\n",
        "else:\n",
        "   print(\"o produto mais barato é a creatina.\")"
      ],
      "metadata": {
        "id": "AcbUhApiSJbG",
        "colab": {
          "base_uri": "https://localhost:8080/"
        },
        "outputId": "6ad065ef-b121-4655-f476-775931efcafb"
      },
      "execution_count": null,
      "outputs": [
        {
          "output_type": "stream",
          "name": "stdout",
          "text": [
            "Qual é o preço da barra de proteina? 999999999\n",
            "Qual é o preço do pré-treino? 99999999999\n",
            "Qual é o preço da creatina? 1\n",
            "o produto mais barato é a creatina.\n"
          ]
        }
      ]
    },
    {
      "cell_type": "markdown",
      "source": [
        "Escreva um programa que leia três números e os exiba em ordem decrescente."
      ],
      "metadata": {
        "id": "fKLbImzStC9F"
      }
    },
    {
      "cell_type": "code",
      "source": [
        "numero1 = float(input(\"Digite o primeiro número: \"))\n",
        "numero2 = float(input(\"Digite o segundo número: \"))\n",
        "numero3 = float(input(\"Digite o terceiro número: \"))\n",
        "\n",
        "numeros = [numero1, numero2, numero3]\n",
        "\n",
        "numeros.sort(reverse=True)\n",
        "\n",
        "print(\"Os números em ordem decrescente são:\", numeros)"
      ],
      "metadata": {
        "colab": {
          "base_uri": "https://localhost:8080/"
        },
        "id": "4DuWYa4Di8cQ",
        "outputId": "aa418196-bc19-4e5c-bdb4-df21fcc505fb"
      },
      "execution_count": null,
      "outputs": [
        {
          "output_type": "stream",
          "name": "stdout",
          "text": [
            "Digite o primeiro número: 5000\n",
            "Digite o segundo número: 2500\n",
            "Digite o terceiro número: 1000\n",
            "Os números em ordem decrescente são: [5000.0, 2500.0, 1000.0]\n"
          ]
        }
      ]
    },
    {
      "cell_type": "markdown",
      "source": [
        "Escreva um programa que pergunte em qual turno a pessoa usuária estuda (\"manhã\", \"tarde\" ou \"noite\") e exiba a mensagem \"Bom Dia!\", \"Boa Tarde!\", \"Boa Noite!\", ou \"Valor Inválido!\", conforme o caso."
      ],
      "metadata": {
        "id": "7MfDITa7uOdn"
      }
    },
    {
      "cell_type": "code",
      "source": [
        "turno = input(\"Em qual turno você estuda? (manhã/tarde/noite): \").strip().lower()\n",
        "\n",
        "if turno == \"manhã\":\n",
        "    print(\"Bom Dia!\")\n",
        "elif turno == \"tarde\":\n",
        "    print(\"Boa Tarde!\")\n",
        "elif turno == \"noite\":\n",
        "    print(\"Boa Noite!\")\n",
        "else:\n",
        "    print(\"Valor Inválido!\")\n"
      ],
      "metadata": {
        "colab": {
          "base_uri": "https://localhost:8080/"
        },
        "id": "eylMbiEyt1Fh",
        "outputId": "1bd13e97-db90-4c19-be2b-e6368ce2e2e2"
      },
      "execution_count": null,
      "outputs": [
        {
          "output_type": "stream",
          "name": "stdout",
          "text": [
            "Em qual turno você estuda? (manhã/tarde/noite): arroz\n",
            "Valor Inválido!\n"
          ]
        }
      ]
    },
    {
      "cell_type": "markdown",
      "source": [
        "Escreva um programa que peça um número inteiro à pessoa usuária e determine se ele é par ou ímpar. Dica: Você pode utilizar o operador módulo %."
      ],
      "metadata": {
        "id": "Yre2SgrYvMMP"
      }
    },
    {
      "cell_type": "code",
      "source": [
        "numero = int(input(\"Digite um número inteiro: \"))\n",
        "\n",
        "if numero % 2 == 0:\n",
        "    print(\"O número é par.\")\n",
        "else:\n",
        "    print(\"O número é ímpar.\")"
      ],
      "metadata": {
        "colab": {
          "base_uri": "https://localhost:8080/"
        },
        "id": "C3KUkB4TuxzB",
        "outputId": "a1b2fbd8-1d67-459d-c1e3-aa56c2d209ed"
      },
      "execution_count": null,
      "outputs": [
        {
          "output_type": "stream",
          "name": "stdout",
          "text": [
            "Digite um número inteiro: 5\n",
            "O número é ímpar.\n"
          ]
        }
      ]
    },
    {
      "cell_type": "markdown",
      "source": [
        " Escreva um programa que peça um número à pessoa usuária e informe se ele é inteiro ou decimal."
      ],
      "metadata": {
        "id": "wx5QIP4yvlHc"
      }
    },
    {
      "cell_type": "code",
      "source": [
        "numero = input(\"Digite um número: \")\n",
        "\n",
        "try:\n",
        "    valor = float(numero)\n",
        "    if valor.is_integer():\n",
        "        print(\"O número é inteiro.\")\n",
        "    else:\n",
        "        print(\"O número é decimal.\")\n",
        "except ValueError:\n",
        "    print(\"Entrada inválida. Por favor, digite um número válido.\")"
      ],
      "metadata": {
        "id": "vpP_OfCJvnV9",
        "colab": {
          "base_uri": "https://localhost:8080/"
        },
        "outputId": "5a7749ac-2af5-4090-c8f9-32ba8300b3b1"
      },
      "execution_count": 1,
      "outputs": [
        {
          "output_type": "stream",
          "name": "stdout",
          "text": [
            "Digite um número: 2\n",
            "O número é inteiro.\n"
          ]
        }
      ]
    },
    {
      "cell_type": "markdown",
      "source": [
        "um programa deve ser escrito para ler dois números e, em seguida, perguntar à pessoa usuária qual operação ele deseja realizar. O resultado da operação deve incluir informações sobre o número - se é par ou ímpar, positivo ou negativo e inteiro ou decimal."
      ],
      "metadata": {
        "id": "P8knwNAiwIxx"
      }
    },
    {
      "cell_type": "code",
      "source": [
        "def verificar_numero(numero):\n",
        "    if numero.is_integer():\n",
        "        tipo = \"inteiro\"\n",
        "    else:\n",
        "        tipo = \"decimal\"\n",
        "\n",
        "    if numero % 2 == 0:\n",
        "        paridade = \"par\"\n",
        "    else:\n",
        "        paridade = \"ímpar\"\n",
        "\n",
        "    if numero > 0:\n",
        "        sinal = \"positivo\"\n",
        "    elif numero < 0:\n",
        "        sinal = \"negativo\"\n",
        "    else:\n",
        "        sinal = \"neutro\"\n",
        "\n",
        "    return f\"O número é {tipo}, {paridade} e {sinal}.\"\n",
        "\n",
        "numero1 = input(\"Digite o primeiro número: \")\n",
        "numero2 = input(\"Digite o segundo número: \")\n",
        "\n",
        "try:\n",
        "    num1 = float(numero1)\n",
        "    num2 = float(numero2)\n",
        "\n",
        "    operacao = input(\"Escolha a operação (+, -, *, /): \")\n",
        "\n",
        "    if operacao == '+':\n",
        "        resultado = num1 + num2\n",
        "    elif operacao == '-':\n",
        "        resultado = num1 - num2\n",
        "    elif operacao == '*':\n",
        "        resultado = num1 * num2\n",
        "    elif operacao == '/' and num2 != 0:\n",
        "        resultado = num1 / num2\n",
        "    else:\n",
        "        print(\"Operação inválida ou divisão por zero.\")\n",
        "        exit()\n",
        "\n",
        "    print(f\"Resultado: {resultado}\")\n",
        "    print(verificar_numero(resultado))\n",
        "\n",
        "except ValueError:\n",
        "    print(\"Entrada inválida. Por favor, digite números válidos.\")"
      ],
      "metadata": {
        "colab": {
          "base_uri": "https://localhost:8080/"
        },
        "id": "cFlxo-JewEaP",
        "outputId": "ca28604c-6480-4586-c1e5-6f00eb89bfbe"
      },
      "execution_count": 3,
      "outputs": [
        {
          "output_type": "stream",
          "name": "stdout",
          "text": [
            "Digite o primeiro número: 2\n",
            "Digite o segundo número: 2\n",
            "Escolha a operação (+, -, *, /): +\n",
            "Resultado: 4.0\n",
            "O número é inteiro, par e positivo.\n"
          ]
        }
      ]
    }
  ]
}