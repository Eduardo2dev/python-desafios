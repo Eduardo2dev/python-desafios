{
  "nbformat": 4,
  "nbformat_minor": 0,
  "metadata": {
    "colab": {
      "provenance": []
    },
    "kernelspec": {
      "name": "python3",
      "display_name": "Python 3"
    },
    "language_info": {
      "name": "python"
    }
  },
  "cells": [
    {
      "cell_type": "markdown",
      "source": [
        "Faça um programa que tenha a seguinte lista contendo os valores de gastos de uma empresa de papel [2172.54, 3701.35, 3518.09, 3456.61, 3249.38, 2840.82, 3891.45, 3075.26, 2317.64, 3219.08]. Com esses valores, faça um programa que calcule a média de gastos. Dica: use as funções built-in sum() e len()."
      ],
      "metadata": {
        "id": "GHTjFTRcg41r"
      }
    },
    {
      "cell_type": "code",
      "execution_count": 2,
      "metadata": {
        "colab": {
          "base_uri": "https://localhost:8080/"
        },
        "id": "tq_8YAGdg4GQ",
        "outputId": "7c5d86f1-e919-41ac-a6eb-a29aa2c70cec"
      },
      "outputs": [
        {
          "output_type": "stream",
          "name": "stdout",
          "text": [
            "A média de gastos da empresa é: R$ 3144.22\n"
          ]
        }
      ],
      "source": [
        "gastos = [2172.54, 3701.35, 3518.09, 3456.61, 3249.38, 2840.82, 3891.45, 3075.26, 2317.64, 3219.08]\n",
        "\n",
        "media_gastos = sum(gastos) / len(gastos)\n",
        "print(f\"A média de gastos da empresa é: R$ {media_gastos:.2f}\")"
      ]
    },
    {
      "cell_type": "markdown",
      "source": [
        "Com os mesmos dados da questão anterior, defina quantas compras foram realizadas acima de 3000 reais e calcule a porcentagem quanto ao total de compras."
      ],
      "metadata": {
        "id": "OotoHh4ih1xA"
      }
    },
    {
      "cell_type": "code",
      "source": [
        "gastos = [2172.54, 3701.35, 3518.09, 3456.61, 3249.38, 2840.82, 3891.45, 3075.26, 2317.64, 3219.08]\n",
        "\n",
        "compras_acima_3000 = sum(1 for valor in gastos if valor > 3000)\n",
        "\n",
        "total_compras = len(gastos)\n",
        "porcentagem = (compras_acima_3000 / total_compras) * 100\n",
        "\n",
        "print(f\"Quantidade de compras acima de R$ 3000: {compras_acima_3000}\")\n",
        "print(f\"Porcentagem em relação ao total de compras: {porcentagem:.2f}%\")"
      ],
      "metadata": {
        "colab": {
          "base_uri": "https://localhost:8080/"
        },
        "id": "j0VV8FcGhq7e",
        "outputId": "62d06a1c-0917-434c-9c07-a86557e2c1d2"
      },
      "execution_count": 3,
      "outputs": [
        {
          "output_type": "stream",
          "name": "stdout",
          "text": [
            "Quantidade de compras acima de R$ 3000: 7\n",
            "Porcentagem em relação ao total de compras: 70.00%\n"
          ]
        }
      ]
    },
    {
      "cell_type": "markdown",
      "source": [
        "Faça um código que colete em uma lista 5 números inteiros quaisquer e imprima a lista. Exemplo: [1,4,7,2,4]."
      ],
      "metadata": {
        "id": "NwTNeuEWigfg"
      }
    },
    {
      "cell_type": "code",
      "source": [
        "numeros = []\n",
        "\n",
        "for i in range(5):\n",
        "    numero = int(input(f\"Digite o {i+1}º número inteiro: \"))\n",
        "    numeros.append(numero)\n",
        "\n",
        "print(\"Lista de números inseridos:\", numeros)\n"
      ],
      "metadata": {
        "colab": {
          "base_uri": "https://localhost:8080/"
        },
        "id": "fNkfGSOQiehX",
        "outputId": "d35644cc-9641-4913-f1c1-6b331dee3bda"
      },
      "execution_count": 4,
      "outputs": [
        {
          "output_type": "stream",
          "name": "stdout",
          "text": [
            "Digite o 1º número inteiro: 5\n",
            "Digite o 2º número inteiro: 10\n",
            "Digite o 3º número inteiro: 20\n",
            "Digite o 4º número inteiro: 30\n",
            "Digite o 5º número inteiro: 4\n",
            "Lista de números inseridos: [5, 10, 20, 30, 4]\n"
          ]
        }
      ]
    },
    {
      "cell_type": "markdown",
      "source": [
        "Colete novamente 5 inteiros e imprima a lista em ordem inversa à enviada."
      ],
      "metadata": {
        "id": "1x80AaIYi3Jf"
      }
    },
    {
      "cell_type": "code",
      "source": [
        "numeros = []\n",
        "\n",
        "for i in range(5):\n",
        "    numero = int(input(f\"Digite o {i+1}º número inteiro: \"))\n",
        "    numeros.append(numero)\n",
        "\n",
        "print(\"Lista de números inseridos:\", numeros[::-1])"
      ],
      "metadata": {
        "colab": {
          "base_uri": "https://localhost:8080/"
        },
        "collapsed": true,
        "id": "uUWaT-B2iuOl",
        "outputId": "2908921a-b743-40ca-ab2b-1d96075cdfe1"
      },
      "execution_count": 8,
      "outputs": [
        {
          "output_type": "stream",
          "name": "stdout",
          "text": [
            "Digite o 1º número inteiro: 5\n",
            "Digite o 2º número inteiro: 10\n",
            "Digite o 3º número inteiro: 20\n",
            "Digite o 4º número inteiro: 30\n",
            "Digite o 5º número inteiro: 4\n",
            "Lista de números inseridos: [4, 30, 20, 10, 5]\n"
          ]
        }
      ]
    },
    {
      "cell_type": "markdown",
      "source": [
        "Faça um programa que, ao inserir um número qualquer, cria uma lista contendo todos os números primos entre 1 e o número digitado."
      ],
      "metadata": {
        "id": "OnxgeILHjeq2"
      }
    },
    {
      "cell_type": "code",
      "source": [
        "def eh_primo(n):\n",
        "    if n < 2:\n",
        "        return False\n",
        "    for i in range(2, int(n**0.5) + 1):\n",
        "        if n % i == 0:\n",
        "            return False\n",
        "    return True\n",
        "\n",
        "numero = int(input(\"Digite um número inteiro: \"))\n",
        "\n",
        "primos = [n for n in range(1, numero + 1) if eh_primo(n)]\n",
        "print(\"Números primos entre 1 e\", numero, \":\", primos)"
      ],
      "metadata": {
        "colab": {
          "base_uri": "https://localhost:8080/"
        },
        "id": "2fbwh9EjjAgz",
        "outputId": "37addf06-1bb6-44be-8752-7381c921e961"
      },
      "execution_count": 9,
      "outputs": [
        {
          "output_type": "stream",
          "name": "stdout",
          "text": [
            "Digite um número inteiro: 8\n",
            "Números primos entre 1 e 8 : [2, 3, 5, 7]\n"
          ]
        }
      ]
    },
    {
      "cell_type": "markdown",
      "source": [
        "Escreva um programa que peça uma data informando o dia, mês e ano e determine se ela é válida para uma análise."
      ],
      "metadata": {
        "id": "g0TKWOWtjyMN"
      }
    },
    {
      "cell_type": "code",
      "source": [
        "from datetime import datetime\n",
        "\n",
        "def verificar_data_valida():\n",
        "    try:\n",
        "        dia = int(input(\"Digite o dia: \"))\n",
        "        mes = int(input(\"Digite o mês: \"))\n",
        "        ano = int(input(\"Digite o ano: \"))\n",
        "\n",
        "        data = datetime(ano, mes, dia)\n",
        "        print(f\"A data {data.strftime('%d/%m/%Y')} é válida!\")\n",
        "    except ValueError:\n",
        "        print(\"Data inválida. Verifique se os valores inseridos estão corretos.\")\n",
        "\n",
        "verificar_data_valida()"
      ],
      "metadata": {
        "colab": {
          "base_uri": "https://localhost:8080/"
        },
        "id": "TnnJzG-Mjw4b",
        "outputId": "d09b8118-8d69-41a5-9d81-5c37ca4359a0"
      },
      "execution_count": 10,
      "outputs": [
        {
          "output_type": "stream",
          "name": "stdout",
          "text": [
            "Digite o dia: 20\n",
            "Digite o mês: 05\n",
            "Digite o ano: 2002\n",
            "A data 20/05/2002 é válida!\n"
          ]
        }
      ]
    }
  ]
}