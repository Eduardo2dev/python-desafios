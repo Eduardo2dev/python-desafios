{
  "nbformat": 4,
  "nbformat_minor": 0,
  "metadata": {
    "colab": {
      "provenance": []
    },
    "kernelspec": {
      "name": "python3",
      "display_name": "Python 3"
    },
    "language_info": {
      "name": "python"
    }
  },
  "cells": [
    {
      "cell_type": "markdown",
      "source": [
        "Escreva um programa que peça dois números inteiros e imprima todos os números inteiros entre eles."
      ],
      "metadata": {
        "id": "RPtQf7dKKbYR"
      }
    },
    {
      "cell_type": "code",
      "execution_count": 15,
      "metadata": {
        "colab": {
          "base_uri": "https://localhost:8080/"
        },
        "collapsed": true,
        "id": "8452yuPIKa6W",
        "outputId": "83dba9ff-5a7d-4c87-a517-bc273c40f29b"
      },
      "outputs": [
        {
          "output_type": "stream",
          "name": "stdout",
          "text": [
            "Digite o primeiro número inteiro: 1\n",
            "Digite o segundo número inteiro: 20\n",
            "Números entre 1 e 20:\n",
            "2\n",
            "3\n",
            "4\n",
            "5\n",
            "6\n",
            "7\n",
            "8\n",
            "9\n",
            "10\n",
            "11\n",
            "12\n",
            "13\n",
            "14\n",
            "15\n",
            "16\n",
            "17\n",
            "18\n",
            "19\n"
          ]
        }
      ],
      "source": [
        "num1 = int(input(\"Digite o primeiro número inteiro: \"))\n",
        "num2 = int(input(\"Digite o segundo número inteiro: \"))\n",
        "\n",
        "inicio = min(num1, num2)\n",
        "fim = max(num1, num2)\n",
        "\n",
        "print(f\"Números entre {inicio} e {fim}:\")\n",
        "for i in range(inicio + 1, fim):\n",
        "    print(i)\n"
      ]
    },
    {
      "cell_type": "markdown",
      "source": [
        "Escreva um programa para calcular quantos dias levará para a colônia de uma bactéria A ultrapassar ou igualar a colônia de uma bactéria B, com base nas taxas de crescimento de 3% e 1,5% respectivamente. Considere que a colônia A inicia com 4 elementos e a B com 10."
      ],
      "metadata": {
        "id": "KcXKR9BgPzr5"
      }
    },
    {
      "cell_type": "code",
      "source": [
        "populacao_a = 4\n",
        "populacao_b = 10\n",
        "taxa_a = 0.03\n",
        "taxa_b = 0.015\n",
        "dias = 0\n",
        "\n",
        "while populacao_a < populacao_b:\n",
        "    populacao_a += populacao_a * taxa_a\n",
        "    populacao_b += populacao_b * taxa_b\n",
        "    dias += 1\n",
        "\n",
        "print(f\"A colônia A ultrapassará ou igualará a colônia B em {dias} dias.\")"
      ],
      "metadata": {
        "colab": {
          "base_uri": "https://localhost:8080/"
        },
        "id": "A2_I5ifKLWPt",
        "outputId": "7b4a924e-af5c-4e9a-df3f-f05017531a61"
      },
      "execution_count": 16,
      "outputs": [
        {
          "output_type": "stream",
          "name": "stdout",
          "text": [
            "A colônia A ultrapassará ou igualará a colônia B em 63 dias.\n"
          ]
        }
      ]
    },
    {
      "cell_type": "markdown",
      "source": [
        "Para tratar uma quantidade de 15 dados de avaliações de pessoas usuárias de um serviço da empresa, precisamos verificar se as notas são válidas. Então, escreva um programa que vai receber a nota de 0 a 5 de todos os dados e verificar se é um valor válido. Caso seja inserido uma nota acima de 5 ou abaixo de 0, repita até que a pessoa usuária insira um valor válido."
      ],
      "metadata": {
        "id": "T5N52YJzQMjx"
      }
    },
    {
      "cell_type": "code",
      "source": [
        "notas = []\n",
        "\n",
        "for i in range(1, 16):\n",
        "    while True:\n",
        "        try:\n",
        "            nota = float(input(f\"Digite a nota {i} (de 0 a 5): \"))\n",
        "            if 0 <= nota <= 5:\n",
        "                notas.append(nota)\n",
        "                break\n",
        "            else:\n",
        "                print(\"Nota inválida. A nota deve ser entre 0 e 5.\")\n",
        "        except ValueError:\n",
        "            print(\"Entrada inválida. Por favor, insira um número.\")\n",
        "\n",
        "print(\"\\nNotas válidas recebidas:\", notas)"
      ],
      "metadata": {
        "colab": {
          "base_uri": "https://localhost:8080/"
        },
        "id": "LX0HOVbHQK5_",
        "outputId": "3f7143a1-ac9b-43f2-e927-8bb3418fdd11"
      },
      "execution_count": 17,
      "outputs": [
        {
          "output_type": "stream",
          "name": "stdout",
          "text": [
            "Digite a nota 1 (de 0 a 5): 8\n",
            "Nota inválida. A nota deve ser entre 0 e 5.\n",
            "Digite a nota 1 (de 0 a 5): 5\n",
            "Digite a nota 2 (de 0 a 5): 4\n",
            "Digite a nota 3 (de 0 a 5): 2\n",
            "Digite a nota 4 (de 0 a 5): 3\n",
            "Digite a nota 5 (de 0 a 5): 2\n",
            "Digite a nota 6 (de 0 a 5): 1\n",
            "Digite a nota 7 (de 0 a 5): 2\n",
            "Digite a nota 8 (de 0 a 5): 3\n",
            "Digite a nota 9 (de 0 a 5): 4\n",
            "Digite a nota 10 (de 0 a 5): 5\n",
            "Digite a nota 11 (de 0 a 5): 6t\n",
            "Entrada inválida. Por favor, insira um número.\n",
            "Digite a nota 11 (de 0 a 5): 5\n",
            "Digite a nota 12 (de 0 a 5): 3\n",
            "Digite a nota 13 (de 0 a 5): 2\n",
            "Digite a nota 14 (de 0 a 5): 1\n",
            "Digite a nota 15 (de 0 a 5): 4\n",
            "\n",
            "Notas válidas recebidas: [5.0, 4.0, 2.0, 3.0, 2.0, 1.0, 2.0, 3.0, 4.0, 5.0, 5.0, 3.0, 2.0, 1.0, 4.0]\n"
          ]
        }
      ]
    },
    {
      "cell_type": "markdown",
      "source": [
        "Desenvolva um programa que leia um conjunto indeterminado de temperaturas em Celsius e informe a média delas. A leitura deve ser encerrada ao ser enviado o valor -273°C."
      ],
      "metadata": {
        "id": "THGLCgdGQvEf"
      }
    },
    {
      "cell_type": "code",
      "source": [
        "soma_temperaturas = 0\n",
        "quantidade_temperaturas = 0\n",
        "\n",
        "while True:\n",
        "    temperatura = float(input(\"Digite a temperatura em Celsius (ou -273 para encerrar): \"))\n",
        "\n",
        "    if temperatura == -273:\n",
        "        break\n",
        "\n",
        "    soma_temperaturas += temperatura\n",
        "    quantidade_temperaturas += 1\n",
        "\n",
        "if quantidade_temperaturas > 0:\n",
        "    media = soma_temperaturas / quantidade_temperaturas\n",
        "    print(f\"A média das temperaturas inseridas é: {media:.2f}°C\")\n",
        "else:\n",
        "    print(\"Nenhuma temperatura válida foi inserida.\")"
      ],
      "metadata": {
        "colab": {
          "base_uri": "https://localhost:8080/"
        },
        "id": "u7zPiBX8Qp0i",
        "outputId": "d2919ef1-cd9c-4af8-dd05-279844734bf4"
      },
      "execution_count": 20,
      "outputs": [
        {
          "output_type": "stream",
          "name": "stdout",
          "text": [
            "Digite a temperatura em Celsius (ou -273 para encerrar): -20\n",
            "Digite a temperatura em Celsius (ou -273 para encerrar): -100\n",
            "Digite a temperatura em Celsius (ou -273 para encerrar): -500\n",
            "Digite a temperatura em Celsius (ou -273 para encerrar): -700\n",
            "Digite a temperatura em Celsius (ou -273 para encerrar): -800\n",
            "Digite a temperatura em Celsius (ou -273 para encerrar): -273\n",
            "A média das temperaturas inseridas é: -424.00°C\n"
          ]
        }
      ]
    },
    {
      "cell_type": "markdown",
      "source": [
        "Escreva um programa que calcule o fatorial de um número inteiro fornecido pela pessoa usuária. Lembrando que o fatorial de um número inteiro é a multiplicação desse número por todos os seus antecessores até o número 1. Por exemplo, o fatorial de 5 é 5 x 4 x 3 x 2 x 1 = 120"
      ],
      "metadata": {
        "id": "c9IsB0iLRW0W"
      }
    },
    {
      "cell_type": "code",
      "source": [
        "numero = int(input(\"Digite um número inteiro para calcular o fatorial: \"))\n",
        "\n",
        "if numero < 0:\n",
        "    print(\"O fatorial não é definido para números negativos.\")\n",
        "else:\n",
        "    fatorial = 1\n",
        "    for i in range(1, numero + 1):\n",
        "        fatorial *= i\n",
        "    print(f\"O fatorial de {numero} é {fatorial}.\")"
      ],
      "metadata": {
        "colab": {
          "base_uri": "https://localhost:8080/"
        },
        "id": "cDEDokBXRDcw",
        "outputId": "36366d52-d927-430d-d06c-20b52f40264d"
      },
      "execution_count": 21,
      "outputs": [
        {
          "output_type": "stream",
          "name": "stdout",
          "text": [
            "Digite um número inteiro para calcular o fatorial: 5\n",
            "O fatorial de 5 é 120.\n"
          ]
        }
      ]
    }
  ]
}