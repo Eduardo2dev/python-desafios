{
  "nbformat": 4,
  "nbformat_minor": 0,
  "metadata": {
    "colab": {
      "provenance": []
    },
    "kernelspec": {
      "name": "python3",
      "display_name": "Python 3"
    },
    "language_info": {
      "name": "python"
    }
  },
  "cells": [
    {
      "cell_type": "markdown",
      "source": [
        "Programa para solicitar o nome e imprimi-lo"
      ],
      "metadata": {
        "id": "ePT8FlqgV-EQ"
      }
    },
    {
      "cell_type": "code",
      "execution_count": 3,
      "metadata": {
        "colab": {
          "base_uri": "https://localhost:8080/"
        },
        "id": "DXETa1_3V9EV",
        "outputId": "a4b10969-5396-4197-f358-cd753b1326bb"
      },
      "outputs": [
        {
          "output_type": "stream",
          "name": "stdout",
          "text": [
            "quaL é o seu nome? Eduardo\n",
            "Eduardo\n"
          ]
        }
      ],
      "source": [
        "nome = input('qual é o seu nome? ')\n",
        "print(nome)"
      ]
    },
    {
      "cell_type": "markdown",
      "source": [
        "Crie um programa que solicite à pessoa usuária digitar seu nome e idade, e imprima “Olá, [nome], você tem [idade] anos."
      ],
      "metadata": {
        "id": "WUcdWZ0LXJp2"
      }
    },
    {
      "cell_type": "code",
      "source": [
        "nome = input('qual é o seu nome? ')\n",
        "idade = input('qual é a sua idade? ')\n",
        "print (f'olá, {nome}, você tem {idade} anos.')"
      ],
      "metadata": {
        "colab": {
          "base_uri": "https://localhost:8080/"
        },
        "id": "xEl5JuEOWsVC",
        "outputId": "dd9af853-c6b7-4ddb-9a36-88fb03c933f3"
      },
      "execution_count": 8,
      "outputs": [
        {
          "output_type": "stream",
          "name": "stdout",
          "text": [
            "qual é o seu nome? eduardo\n",
            "qual é a sua idade? 22\n",
            "olá, eduardo, você tem 22 anos.\n"
          ]
        }
      ]
    },
    {
      "cell_type": "markdown",
      "source": [
        "Crie um programa que solicite à pessoa usuária digitar seu nome, idade e altura em metros, e imprima “Olá, [nome], você tem [idade] anos e mede [altura] metros!”."
      ],
      "metadata": {
        "id": "nJbT3cqvYPOp"
      }
    },
    {
      "cell_type": "code",
      "source": [
        "nome = input('qual é o seu nome? ')\n",
        "idade = input('qual é a sua idade? ')\n",
        "altura = input('qual é a sua altura? ')\n",
        "print (f'Olá, {nome}, você tem {idade} anos e mede {altura} metros!')"
      ],
      "metadata": {
        "colab": {
          "base_uri": "https://localhost:8080/"
        },
        "id": "2iuoRfBnXjoT",
        "outputId": "51265ead-c631-43e5-a604-70fad8745f8c"
      },
      "execution_count": 9,
      "outputs": [
        {
          "output_type": "stream",
          "name": "stdout",
          "text": [
            "qual é o seu nome? eduardo\n",
            "qual é a sua idade? 22\n",
            "qual é a sua altura? 1.65\n",
            "Olá, eduardo, você tem 22 anos e mede 1.65 metros!\n"
          ]
        }
      ]
    },
    {
      "cell_type": "markdown",
      "source": [
        "Crie um programa que solicite dois valores numéricos à pessoa usuária e imprima a soma dos dois valores."
      ],
      "metadata": {
        "id": "YVvOk9mBYvRD"
      }
    },
    {
      "cell_type": "code",
      "source": [
        "print(\"=== Calculadora de adição ===\")\n",
        "n1 = int(input('digite um número: '))\n",
        "n2 = int(input('digite outro número: '))\n",
        "resultado = n1 + n2\n",
        "print(f'o resultado da adição é: {resultado}')"
      ],
      "metadata": {
        "colab": {
          "base_uri": "https://localhost:8080/"
        },
        "id": "1IqtyBVTYq8H",
        "outputId": "44942cb3-2c4c-427d-bff4-f6b75655edfe"
      },
      "execution_count": 28,
      "outputs": [
        {
          "output_type": "stream",
          "name": "stdout",
          "text": [
            "=== Calculadora de adição ===\n",
            "digite um número: 2\n",
            "digite outro número: 2\n",
            "o resultado da adição é: 4\n"
          ]
        }
      ]
    },
    {
      "cell_type": "markdown",
      "source": [
        "Crie um programa que solicite três valores numéricos à pessoa usuária e imprima a soma dos três valores.\n",
        "2"
      ],
      "metadata": {
        "id": "cNYJpBrqZqdG"
      }
    },
    {
      "cell_type": "code",
      "source": [
        "print(\"=== Calculadora de adição ===\")\n",
        "n1 = int(input('digite um número: '))\n",
        "n2 = int(input('digite outro número: '))\n",
        "n3 = int(input('digite outro número: '))\n",
        "resultado = n2 + n2 + n3\n",
        "print(f'o resultado da adição é: {resultado}')"
      ],
      "metadata": {
        "colab": {
          "base_uri": "https://localhost:8080/"
        },
        "id": "vxtJbZH9ZB6Z",
        "outputId": "c486250c-c156-4328-bb14-83ee748441e0"
      },
      "execution_count": 29,
      "outputs": [
        {
          "output_type": "stream",
          "name": "stdout",
          "text": [
            "=== Calculadora de adição ===\n",
            "digite um número: 2\n",
            "digite outro número: 2\n",
            "digite outro número: 2\n",
            "o resultado da adição é: 6\n"
          ]
        }
      ]
    },
    {
      "cell_type": "markdown",
      "source": [
        "Crie um programa que solicite dois valores numéricos à pessoa usuária e imprima a subtração do primeiro pelo o segundo valor."
      ],
      "metadata": {
        "id": "6HU4vnINZxU7"
      }
    },
    {
      "cell_type": "code",
      "source": [
        "print(\"=== Calculadora de subtração ===\")\n",
        "n1 = int(input('digite um número: '))\n",
        "n2 = int(input('digite outro número: '))\n",
        "resultado = n1 - n2\n",
        "print(f'o resultado da subtração é: {resultado}')"
      ],
      "metadata": {
        "colab": {
          "base_uri": "https://localhost:8080/"
        },
        "id": "7SkO6lPCZuqC",
        "outputId": "c053cb56-bf4d-49db-c802-4bc82faac6a7"
      },
      "execution_count": 30,
      "outputs": [
        {
          "output_type": "stream",
          "name": "stdout",
          "text": [
            "=== Calculadora de subtração ===\n",
            "digite um número: 2\n",
            "digite outro número: 2\n",
            "o resultado da subtração é: 0\n"
          ]
        }
      ]
    },
    {
      "cell_type": "markdown",
      "source": [
        "Crie um programa que solicite dois valores numéricos à pessoa usuária e imprima a multiplicação dos dois valores."
      ],
      "metadata": {
        "id": "N70R4N96Z4Pc"
      }
    },
    {
      "cell_type": "code",
      "source": [
        "print(\"=== Calculadora de multiplicação ===\")\n",
        "n1 = int(input('digite um número: '))\n",
        "n2 = int(input('digite outro número: '))\n",
        "resultado = n1 * n2\n",
        "print(f'o resultado da multiplicação é: {resultado}')"
      ],
      "metadata": {
        "colab": {
          "base_uri": "https://localhost:8080/"
        },
        "id": "E8uXSpuzZ3R3",
        "outputId": "e1ad6068-8393-4ff6-9399-5cf2c290bdd4"
      },
      "execution_count": 31,
      "outputs": [
        {
          "output_type": "stream",
          "name": "stdout",
          "text": [
            "=== Calculadora de multiplicação ===\n",
            "digite um número: 2\n",
            "digite outro número: 2\n",
            "o resultado da multiplicação é: 4\n"
          ]
        }
      ]
    },
    {
      "cell_type": "markdown",
      "source": [
        "Crie um programa que solicite dois valores numéricos, um numerador e um denominador, e realize a divisão entre os dois valores. Deixe claro que o valor do denominador não pode ser 0."
      ],
      "metadata": {
        "id": "VF4bME-waCPX"
      }
    },
    {
      "cell_type": "code",
      "source": [
        "print(\"=== Calculadora de divisão ===\")\n",
        "n = float(input('digite o numerador: '))\n",
        "d = float(input('Digite o denominador (nao pode ser 0): '))\n",
        "if d != 0:\n",
        "    resultado = n / d\n",
        "    print(f\"O resultado da divisao e: {resultado}\")\n",
        "else:\n",
        "    print(\"Erro: O denominador nao pode ser 0.\")\n"
      ],
      "metadata": {
        "colab": {
          "base_uri": "https://localhost:8080/"
        },
        "id": "wJCTM3XtZ_bJ",
        "outputId": "08b9eafd-4b4a-4549-f205-ad189eff0e1f"
      },
      "execution_count": 33,
      "outputs": [
        {
          "output_type": "stream",
          "name": "stdout",
          "text": [
            "=== Calculadora de divisão ===\n",
            "digite o numerador: 2\n",
            "Digite o denominador (nao pode ser 0): 2\n",
            "O resultado da divisao e: 1.0\n"
          ]
        }
      ]
    },
    {
      "cell_type": "markdown",
      "source": [
        "Crie um programa que solicite dois valores numéricos, um operador e uma potência, e realize a exponenciação entre esses dois valores.\n"
      ],
      "metadata": {
        "id": "QP6tK-VscUmJ"
      }
    },
    {
      "cell_type": "code",
      "source": [
        "print(\"=== Calculadora de Exponenciacao ===\")\n",
        "base = float(input(\"Digite a base: \"))\n",
        "expoente = float(input(\"Digite o expoente: \"))\n",
        "\n",
        "resultado = base ** expoente\n",
        "print(f\"O resultado de {base} elevado a {expoente} e: {resultado}\")"
      ],
      "metadata": {
        "colab": {
          "base_uri": "https://localhost:8080/"
        },
        "id": "z2rqbeS1as7O",
        "outputId": "dd148146-7ce5-4082-d212-c522dca84f42"
      },
      "execution_count": 34,
      "outputs": [
        {
          "output_type": "stream",
          "name": "stdout",
          "text": [
            "=== Calculadora de Exponenciacao ===\n",
            "Digite a base: 2\n",
            "Digite o expoente: 2\n",
            "O resultado de 2.0 elevado a 2.0 e: 4.0\n"
          ]
        }
      ]
    },
    {
      "cell_type": "markdown",
      "source": [
        "Crie um código que solicita 3 notas de um estudante e imprima a média das notas."
      ],
      "metadata": {
        "id": "xn6ItR2Kjzyd"
      }
    },
    {
      "cell_type": "code",
      "source": [
        "n1 = float(input(\"Digite a primeira nota: \"))\n",
        "n2 = float(input(\"Digite a segunda nota: \"))\n",
        "n3 = float(input(\"Digite a terceira nota: \"))\n",
        "\n",
        "media = (n1 + n2 + n3) / 3\n",
        "print(f\"A media das notas e: {media}\")"
      ],
      "metadata": {
        "colab": {
          "base_uri": "https://localhost:8080/"
        },
        "id": "ApY7P0ORddCi",
        "outputId": "7eeff974-e496-4b8b-cb2f-1939237b7250"
      },
      "execution_count": 35,
      "outputs": [
        {
          "output_type": "stream",
          "name": "stdout",
          "text": [
            "Digite a primeira nota: 1\n",
            "Digite a segunda nota: 2\n",
            "Digite a terceira nota: 3\n",
            "A media das notas e: 2.0\n"
          ]
        }
      ]
    },
    {
      "cell_type": "markdown",
      "source": [
        "Crie um código que calcule e imprima a média ponderada dos números 5, 12, 20 e 15 com pesos respectivamente iguais a 1, 2, 3 e 4."
      ],
      "metadata": {
        "id": "OOp3JnAgkMzV"
      }
    },
    {
      "cell_type": "code",
      "source": [
        "# Valores\n",
        "valores = [5, 12, 20, 15]\n",
        "pesos = [1, 2, 3, 4]\n",
        "\n",
        "# Calculando a média ponderada\n",
        "soma_ponderada = sum(v * p for v, p in zip(valores, pesos))\n",
        "soma_pesos = sum(pesos)\n",
        "media_ponderada = soma_ponderada / soma_pesos\n",
        "\n",
        "print(f\"A média ponderada é: {media_ponderada}\")\n"
      ],
      "metadata": {
        "colab": {
          "base_uri": "https://localhost:8080/"
        },
        "id": "7QXAeNkZkICg",
        "outputId": "0a4b2a69-c585-4a37-880e-485a9e84fe15"
      },
      "execution_count": 37,
      "outputs": [
        {
          "output_type": "stream",
          "name": "stdout",
          "text": [
            "A média ponderada é: 14.9\n"
          ]
        }
      ]
    },
    {
      "cell_type": "markdown",
      "source": [
        "Crie uma variável chamada “frase” e atribua a ela uma string de sua escolha. Em seguida, imprima a frase na tela."
      ],
      "metadata": {
        "id": "kd62R_FgkdDj"
      }
    },
    {
      "cell_type": "code",
      "source": [
        "frase = 'A Lorena é muito bonita'\n",
        "print(frase)"
      ],
      "metadata": {
        "colab": {
          "base_uri": "https://localhost:8080/"
        },
        "id": "tjhh85EskQca",
        "outputId": "3c8bf6e0-b377-4ae0-f952-50db492fd74b"
      },
      "execution_count": 38,
      "outputs": [
        {
          "output_type": "stream",
          "name": "stdout",
          "text": [
            "A Lorena é muito bonita\n"
          ]
        }
      ]
    },
    {
      "cell_type": "markdown",
      "source": [
        "Crie um código que solicite uma frase e depois imprima a frase na tela."
      ],
      "metadata": {
        "id": "NYbVXHCCkpGe"
      }
    },
    {
      "cell_type": "code",
      "source": [
        "frase = input('digite uma frase: ')\n",
        "print(frase)"
      ],
      "metadata": {
        "colab": {
          "base_uri": "https://localhost:8080/"
        },
        "id": "yMOAGgp6knGB",
        "outputId": "a3f3ae71-c5eb-4ee5-9bc5-911d8d0a8b0b"
      },
      "execution_count": 39,
      "outputs": [
        {
          "output_type": "stream",
          "name": "stdout",
          "text": [
            "digite uma frase: A Lorena é muito bonita\n",
            "A Lorena é muito bonita\n"
          ]
        }
      ]
    },
    {
      "cell_type": "markdown",
      "source": [
        "Crie um código que solicite uma frase à pessoa usuária e imprima a mesma frase digitada mas com todas as letras maiúsculas."
      ],
      "metadata": {
        "id": "MnK6CL7Vk3hE"
      }
    },
    {
      "cell_type": "code",
      "source": [
        "frase = input('digite uma frase: ')\n",
        "frase = frase.upper()\n",
        "print(frase)"
      ],
      "metadata": {
        "colab": {
          "base_uri": "https://localhost:8080/"
        },
        "id": "54aZx80Gk1GD",
        "outputId": "fe8edbf3-92a2-4891-b11c-3dc30003ceb2"
      },
      "execution_count": 42,
      "outputs": [
        {
          "output_type": "stream",
          "name": "stdout",
          "text": [
            "digite uma frase: lorena linda\n",
            "LORENA LINDA\n"
          ]
        }
      ]
    },
    {
      "cell_type": "markdown",
      "source": [
        "Crie um código que solicite uma frase à pessoa usuária e imprima a mesma frase digitada mas com todas as letras minúsculas."
      ],
      "metadata": {
        "id": "_2qPXOoQlaB0"
      }
    },
    {
      "cell_type": "code",
      "source": [
        "frase = input('digite uma frase: ')\n",
        "frase = frase.lower()\n",
        "print(frase)"
      ],
      "metadata": {
        "colab": {
          "base_uri": "https://localhost:8080/"
        },
        "id": "a4QxITwVlLTi",
        "outputId": "9a4409f6-9daf-4fa8-a5db-4b42a15495ca"
      },
      "execution_count": 43,
      "outputs": [
        {
          "output_type": "stream",
          "name": "stdout",
          "text": [
            "digite uma frase: LORENA LINDA\n",
            "lorena linda\n"
          ]
        }
      ]
    },
    {
      "cell_type": "markdown",
      "source": [
        "Crie uma variável chamada “frase” e atribua a ela uma string de sua escolha. Em seguida, imprima a frase sem espaços em branco no início e no fim."
      ],
      "metadata": {
        "id": "LYJbBW5eln-t"
      }
    },
    {
      "cell_type": "code",
      "source": [
        "frase = '  Lorena Linda    '\n",
        "frase = frase.strip()\n",
        "print(frase)"
      ],
      "metadata": {
        "colab": {
          "base_uri": "https://localhost:8080/"
        },
        "id": "4nWJa5MdlkdF",
        "outputId": "f4bcd91e-06fe-40c6-bd62-6f6d61c9d649"
      },
      "execution_count": 44,
      "outputs": [
        {
          "output_type": "stream",
          "name": "stdout",
          "text": [
            "Lorena Linda\n"
          ]
        }
      ]
    },
    {
      "cell_type": "markdown",
      "source": [
        "Crie um código que solicite uma frase à pessoa usuária e imprima a mesma frase sem espaços em branco no início e no fim."
      ],
      "metadata": {
        "id": "3g59oMYFl9OK"
      }
    },
    {
      "cell_type": "code",
      "source": [
        "frase = input('digite uma frase: ')\n",
        "frase = frase.strip()\n",
        "print(frase)"
      ],
      "metadata": {
        "colab": {
          "base_uri": "https://localhost:8080/"
        },
        "id": "tqylkDJxl5oY",
        "outputId": "ffd91a4f-e174-406a-caaa-3041da7ea4ee"
      },
      "execution_count": 46,
      "outputs": [
        {
          "output_type": "stream",
          "name": "stdout",
          "text": [
            "digite uma frase:         a Lorena é linda                       \n",
            "a Lorena é linda\n"
          ]
        }
      ]
    },
    {
      "cell_type": "markdown",
      "source": [
        "Crie um código que solicite uma frase à pessoa usuária e imprima a mesma frase sem espaços em branco no início e no fim e em letras minúsculas."
      ],
      "metadata": {
        "id": "GrkM2Y-BmTJq"
      }
    },
    {
      "cell_type": "code",
      "source": [
        "frase = input('digite uma frase: ')\n",
        "frase = frase.strip().upper()\n",
        "print(frase)"
      ],
      "metadata": {
        "colab": {
          "base_uri": "https://localhost:8080/"
        },
        "id": "0YGHB069mKdU",
        "outputId": "89d9f876-eba9-4989-f911-c890bc473fdc"
      },
      "execution_count": 50,
      "outputs": [
        {
          "output_type": "stream",
          "name": "stdout",
          "text": [
            "digite uma frase:         a lorena é linda      \n",
            "A LORENA É LINDA\n"
          ]
        }
      ]
    },
    {
      "cell_type": "markdown",
      "source": [
        "crie um código que solicite uma frase à pessoa usuária e imprima a mesma frase com todas as vogais “e” trocadas pela letra “f”."
      ],
      "metadata": {
        "id": "I2Q-WJ2im15G"
      }
    },
    {
      "cell_type": "code",
      "source": [
        "frase = input('digite uma frase: ')\n",
        "frase = frase.replace('e', 'f')\n",
        "print(frase)"
      ],
      "metadata": {
        "colab": {
          "base_uri": "https://localhost:8080/"
        },
        "id": "nMQtEnTDmdl8",
        "outputId": "1c15a2de-e2d0-4686-ee19-26774cc79565"
      },
      "execution_count": 52,
      "outputs": [
        {
          "output_type": "stream",
          "name": "stdout",
          "text": [
            "digite uma frase: escola ema estagiario escada\n",
            "fscola fma fstagiario fscada\n"
          ]
        }
      ]
    },
    {
      "cell_type": "markdown",
      "source": [
        "Crie um código que solicite uma frase à pessoa usuária e imprima a mesma frase com todas as vogais “a” trocadas pela caractere “@”."
      ],
      "metadata": {
        "id": "ieBn16XgnzX9"
      }
    },
    {
      "cell_type": "code",
      "source": [
        "frase = input('digite uma frase: ')\n",
        "frase = frase.replace('a', '@')\n",
        "print(frase)"
      ],
      "metadata": {
        "colab": {
          "base_uri": "https://localhost:8080/"
        },
        "id": "MtV_UtTanmUI",
        "outputId": "0f30b36f-ef31-4a57-9056-524ab7d36e7d"
      },
      "execution_count": 54,
      "outputs": [
        {
          "output_type": "stream",
          "name": "stdout",
          "text": [
            "digite uma frase: astrologia astronomo\n",
            "@strologi@ @stronomo\n"
          ]
        }
      ]
    },
    {
      "cell_type": "markdown",
      "source": [
        "Crie um código que solicite uma frase à pessoa usuária e imprima a mesma frase com todas as consoantes “s” trocadas pelo caractere “$”."
      ],
      "metadata": {
        "id": "JuCXrSq7oSHT"
      }
    },
    {
      "cell_type": "code",
      "source": [
        "frase = input('digite uma frase: ')\n",
        "frase = frase.replace('s', '$')\n",
        "print(frase)"
      ],
      "metadata": {
        "colab": {
          "base_uri": "https://localhost:8080/"
        },
        "id": "BMbSu05noFJH",
        "outputId": "6b132913-9189-43d9-bb21-b5c92d9f786b"
      },
      "execution_count": 55,
      "outputs": [
        {
          "output_type": "stream",
          "name": "stdout",
          "text": [
            "digite uma frase: sociologia sacola secador\n",
            "$ociologia $acola $ecador\n"
          ]
        }
      ]
    }
  ]
}